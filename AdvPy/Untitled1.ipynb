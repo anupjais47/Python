{
 "cells": [
  {
   "cell_type": "code",
   "execution_count": 7,
   "id": "c148d179",
   "metadata": {},
   "outputs": [
    {
     "name": "stdout",
     "output_type": "stream",
     "text": [
      "Enter a number to check even or odd : 3\n",
      "3  is an odd\n"
     ]
    }
   ],
   "source": [
    "num=int(input(\"Enter a number to check even or odd : \"))\n",
    "if num%2 == 0:\n",
    "    print(num, \" is an even\")\n",
    "else:\n",
    "    print(num, \" is an odd\")"
   ]
  },
  {
   "cell_type": "code",
   "execution_count": 15,
   "id": "7f4476e3",
   "metadata": {},
   "outputs": [
    {
     "name": "stdout",
     "output_type": "stream",
     "text": [
      "Enter a number to check even or odd : 12009932\n",
      "12009932  is an even\n"
     ]
    }
   ],
   "source": [
    "num=int(input(\"Enter a number to check even or odd : \"))\n",
    "if num%2 != 0:\n",
    "    print(num, \" is an odd\")\n",
    "else:\n",
    "    print(num, \" is an even\")"
   ]
  },
  {
   "cell_type": "code",
   "execution_count": 21,
   "id": "1e2558c7",
   "metadata": {},
   "outputs": [
    {
     "name": "stdout",
     "output_type": "stream",
     "text": [
      "Enter a number to reverse : 20002330040000\n",
      "Revesed number is  4003320002\n"
     ]
    }
   ],
   "source": [
    "num = int(input(\"Enter a number to reverse : \"))\n",
    "rev = 0\n",
    "while num > 0:\n",
    "    dig = num % 10\n",
    "    rev = rev * 10 + dig\n",
    "    num = num // 10\n",
    "print(\"Revesed number is \", rev)"
   ]
  }
 ],
 "metadata": {
  "kernelspec": {
   "display_name": "Python 3 (ipykernel)",
   "language": "python",
   "name": "python3"
  },
  "language_info": {
   "codemirror_mode": {
    "name": "ipython",
    "version": 3
   },
   "file_extension": ".py",
   "mimetype": "text/x-python",
   "name": "python",
   "nbconvert_exporter": "python",
   "pygments_lexer": "ipython3",
   "version": "3.11.4"
  }
 },
 "nbformat": 4,
 "nbformat_minor": 5
}
