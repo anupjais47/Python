{
 "cells": [
  {
   "cell_type": "code",
   "execution_count": 2,
   "id": "e0e598a0",
   "metadata": {},
   "outputs": [],
   "source": [
    "s1 = 'Hello!'"
   ]
  },
  {
   "cell_type": "code",
   "execution_count": 4,
   "id": "57a23797",
   "metadata": {},
   "outputs": [
    {
     "data": {
      "text/plain": [
       "'Hello!'"
      ]
     },
     "execution_count": 4,
     "metadata": {},
     "output_type": "execute_result"
    }
   ],
   "source": [
    "s1"
   ]
  },
  {
   "cell_type": "code",
   "execution_count": 5,
   "id": "d3b09359",
   "metadata": {},
   "outputs": [
    {
     "data": {
      "text/plain": [
       "str"
      ]
     },
     "execution_count": 5,
     "metadata": {},
     "output_type": "execute_result"
    }
   ],
   "source": [
    "type(s1)"
   ]
  },
  {
   "cell_type": "code",
   "execution_count": 6,
   "id": "1108b2ff",
   "metadata": {},
   "outputs": [],
   "source": [
    "s2 = \"Hellow Buddy!\""
   ]
  },
  {
   "cell_type": "code",
   "execution_count": 7,
   "id": "acd37a28",
   "metadata": {},
   "outputs": [
    {
     "data": {
      "text/plain": [
       "'Hellow Buddy!'"
      ]
     },
     "execution_count": 7,
     "metadata": {},
     "output_type": "execute_result"
    }
   ],
   "source": [
    "s2"
   ]
  },
  {
   "cell_type": "code",
   "execution_count": 8,
   "id": "01ae3517",
   "metadata": {},
   "outputs": [
    {
     "data": {
      "text/plain": [
       "str"
      ]
     },
     "execution_count": 8,
     "metadata": {},
     "output_type": "execute_result"
    }
   ],
   "source": [
    "type(s2)"
   ]
  },
  {
   "cell_type": "code",
   "execution_count": 9,
   "id": "e597cece",
   "metadata": {},
   "outputs": [],
   "source": [
    "s3 = '\"This is multiline \\n analysis\"'"
   ]
  },
  {
   "cell_type": "code",
   "execution_count": 10,
   "id": "8e4aeecd",
   "metadata": {},
   "outputs": [
    {
     "data": {
      "text/plain": [
       "'\"This is multiline \\n analysis\"'"
      ]
     },
     "execution_count": 10,
     "metadata": {},
     "output_type": "execute_result"
    }
   ],
   "source": [
    "s3"
   ]
  },
  {
   "cell_type": "code",
   "execution_count": 11,
   "id": "b9e8c32f",
   "metadata": {},
   "outputs": [
    {
     "data": {
      "text/plain": [
       "str"
      ]
     },
     "execution_count": 11,
     "metadata": {},
     "output_type": "execute_result"
    }
   ],
   "source": [
    "type(s3)"
   ]
  },
  {
   "cell_type": "code",
   "execution_count": 12,
   "id": "ed56c508",
   "metadata": {},
   "outputs": [],
   "source": [
    "my_str = \"my name is Anup\""
   ]
  },
  {
   "cell_type": "code",
   "execution_count": 13,
   "id": "a2736777",
   "metadata": {},
   "outputs": [
    {
     "data": {
      "text/plain": [
       "'m'"
      ]
     },
     "execution_count": 13,
     "metadata": {},
     "output_type": "execute_result"
    }
   ],
   "source": [
    "my_str[0]"
   ]
  },
  {
   "cell_type": "code",
   "execution_count": 14,
   "id": "16434575",
   "metadata": {},
   "outputs": [
    {
     "data": {
      "text/plain": [
       "'a'"
      ]
     },
     "execution_count": 14,
     "metadata": {},
     "output_type": "execute_result"
    }
   ],
   "source": [
    "my_str[4]"
   ]
  },
  {
   "cell_type": "code",
   "execution_count": 15,
   "id": "ff766d9f",
   "metadata": {},
   "outputs": [
    {
     "data": {
      "text/plain": [
       "'p'"
      ]
     },
     "execution_count": 15,
     "metadata": {},
     "output_type": "execute_result"
    }
   ],
   "source": [
    "my_str[-1]"
   ]
  },
  {
   "cell_type": "code",
   "execution_count": 17,
   "id": "9dc3fd94",
   "metadata": {},
   "outputs": [
    {
     "data": {
      "text/plain": [
       "'am'"
      ]
     },
     "execution_count": 17,
     "metadata": {},
     "output_type": "execute_result"
    }
   ],
   "source": [
    "my_str[4:6]"
   ]
  },
  {
   "cell_type": "code",
   "execution_count": 18,
   "id": "22aceaad",
   "metadata": {},
   "outputs": [
    {
     "data": {
      "text/plain": [
       "15"
      ]
     },
     "execution_count": 18,
     "metadata": {},
     "output_type": "execute_result"
    }
   ],
   "source": [
    "len(my_str)"
   ]
  },
  {
   "cell_type": "code",
   "execution_count": 19,
   "id": "e2cef8d3",
   "metadata": {},
   "outputs": [
    {
     "data": {
      "text/plain": [
       "'my name is anup'"
      ]
     },
     "execution_count": 19,
     "metadata": {},
     "output_type": "execute_result"
    }
   ],
   "source": [
    "my_str.lower()"
   ]
  },
  {
   "cell_type": "code",
   "execution_count": 20,
   "id": "925d0d3a",
   "metadata": {},
   "outputs": [
    {
     "data": {
      "text/plain": [
       "'MY NAME IS ANUP'"
      ]
     },
     "execution_count": 20,
     "metadata": {},
     "output_type": "execute_result"
    }
   ],
   "source": [
    "my_str.upper()"
   ]
  },
  {
   "cell_type": "code",
   "execution_count": 22,
   "id": "ebe9793e",
   "metadata": {},
   "outputs": [
    {
     "data": {
      "text/plain": [
       "'my name is Anup'"
      ]
     },
     "execution_count": 22,
     "metadata": {},
     "output_type": "execute_result"
    }
   ],
   "source": [
    "my_str.replace('U','OO')"
   ]
  },
  {
   "cell_type": "markdown",
   "id": "35db593b",
   "metadata": {},
   "source": [
    "my_str.replace('U','O')"
   ]
  },
  {
   "cell_type": "code",
   "execution_count": 23,
   "id": "df3f4bf9",
   "metadata": {},
   "outputs": [
    {
     "data": {
      "text/plain": [
       "'my name is Anup'"
      ]
     },
     "execution_count": 23,
     "metadata": {},
     "output_type": "execute_result"
    }
   ],
   "source": [
    "my_str.replace('U','O')"
   ]
  },
  {
   "cell_type": "code",
   "execution_count": 24,
   "id": "17058b2c",
   "metadata": {},
   "outputs": [
    {
     "data": {
      "text/plain": [
       "'my name is Anup'"
      ]
     },
     "execution_count": 24,
     "metadata": {},
     "output_type": "execute_result"
    }
   ],
   "source": [
    "my_str"
   ]
  },
  {
   "cell_type": "code",
   "execution_count": 25,
   "id": "2dfeda69",
   "metadata": {},
   "outputs": [
    {
     "data": {
      "text/plain": [
       "'my name is Anop'"
      ]
     },
     "execution_count": 25,
     "metadata": {},
     "output_type": "execute_result"
    }
   ],
   "source": [
    "my_str.replace('u','o')"
   ]
  },
  {
   "cell_type": "code",
   "execution_count": 26,
   "id": "c8ed1cd6",
   "metadata": {},
   "outputs": [
    {
     "data": {
      "text/plain": [
       "'my name is Anoop'"
      ]
     },
     "execution_count": 26,
     "metadata": {},
     "output_type": "execute_result"
    }
   ],
   "source": [
    "my_str.replace('u','oo')"
   ]
  },
  {
   "cell_type": "code",
   "execution_count": 27,
   "id": "a8c126ed",
   "metadata": {},
   "outputs": [],
   "source": [
    "new_str = \"Hey There! This is Danish\""
   ]
  },
  {
   "cell_type": "code",
   "execution_count": 28,
   "id": "7ce80a5a",
   "metadata": {},
   "outputs": [
    {
     "data": {
      "text/plain": [
       "3"
      ]
     },
     "execution_count": 28,
     "metadata": {},
     "output_type": "execute_result"
    }
   ],
   "source": [
    "new_str.count(\"is\")"
   ]
  },
  {
   "cell_type": "code",
   "execution_count": 31,
   "id": "aac2ae93",
   "metadata": {},
   "outputs": [
    {
     "data": {
      "text/plain": [
       "3"
      ]
     },
     "execution_count": 31,
     "metadata": {},
     "output_type": "execute_result"
    }
   ],
   "source": [
    "new_str.count('e')"
   ]
  },
  {
   "cell_type": "code",
   "execution_count": 32,
   "id": "fad9c38e",
   "metadata": {},
   "outputs": [],
   "source": [
    "#List in Python\n",
    "L1 = [1,\"jhoom\", 'umbrella', 3.14, 4+7j]"
   ]
  },
  {
   "cell_type": "code",
   "execution_count": 33,
   "id": "e825aca9",
   "metadata": {},
   "outputs": [
    {
     "data": {
      "text/plain": [
       "[1, 'jhoom', 'umbrella', 3.14, (4+7j)]"
      ]
     },
     "execution_count": 33,
     "metadata": {},
     "output_type": "execute_result"
    }
   ],
   "source": [
    "L1"
   ]
  },
  {
   "cell_type": "code",
   "execution_count": 34,
   "id": "8f631494",
   "metadata": {},
   "outputs": [
    {
     "data": {
      "text/plain": [
       "list"
      ]
     },
     "execution_count": 34,
     "metadata": {},
     "output_type": "execute_result"
    }
   ],
   "source": [
    "type(L1)"
   ]
  },
  {
   "cell_type": "code",
   "execution_count": 35,
   "id": "643e8473",
   "metadata": {},
   "outputs": [],
   "source": [
    "L1[1] = 100"
   ]
  },
  {
   "cell_type": "code",
   "execution_count": 36,
   "id": "7eafbcdc",
   "metadata": {},
   "outputs": [
    {
     "data": {
      "text/plain": [
       "[1, 100, 'umbrella', 3.14, (4+7j)]"
      ]
     },
     "execution_count": 36,
     "metadata": {},
     "output_type": "execute_result"
    }
   ],
   "source": [
    "L1"
   ]
  },
  {
   "cell_type": "code",
   "execution_count": 37,
   "id": "21d6c79c",
   "metadata": {},
   "outputs": [],
   "source": [
    "L1.append(\"laptop\")"
   ]
  },
  {
   "cell_type": "code",
   "execution_count": 38,
   "id": "5a1259c5",
   "metadata": {},
   "outputs": [
    {
     "data": {
      "text/plain": [
       "[1, 100, 'umbrella', 3.14, (4+7j), 'laptop']"
      ]
     },
     "execution_count": 38,
     "metadata": {},
     "output_type": "execute_result"
    }
   ],
   "source": [
    "L1"
   ]
  },
  {
   "cell_type": "code",
   "execution_count": 39,
   "id": "822edca8",
   "metadata": {},
   "outputs": [
    {
     "ename": "NameError",
     "evalue": "name 'l1' is not defined",
     "output_type": "error",
     "traceback": [
      "\u001b[0;31m---------------------------------------------------------------------------\u001b[0m",
      "\u001b[0;31mNameError\u001b[0m                                 Traceback (most recent call last)",
      "Cell \u001b[0;32mIn[39], line 1\u001b[0m\n\u001b[0;32m----> 1\u001b[0m l1\u001b[38;5;241m.\u001b[39mpop()\n",
      "\u001b[0;31mNameError\u001b[0m: name 'l1' is not defined"
     ]
    }
   ],
   "source": [
    "l1.pop()"
   ]
  },
  {
   "cell_type": "code",
   "execution_count": 40,
   "id": "ae1d0d29",
   "metadata": {},
   "outputs": [
    {
     "data": {
      "text/plain": [
       "'laptop'"
      ]
     },
     "execution_count": 40,
     "metadata": {},
     "output_type": "execute_result"
    }
   ],
   "source": [
    "L1.pop()"
   ]
  },
  {
   "cell_type": "code",
   "execution_count": 41,
   "id": "630092cd",
   "metadata": {},
   "outputs": [
    {
     "data": {
      "text/plain": [
       "[1, 100, 'umbrella', 3.14, (4+7j)]"
      ]
     },
     "execution_count": 41,
     "metadata": {},
     "output_type": "execute_result"
    }
   ],
   "source": [
    "L1"
   ]
  },
  {
   "cell_type": "code",
   "execution_count": null,
   "id": "55ea815d",
   "metadata": {},
   "outputs": [],
   "source": []
  },
  {
   "cell_type": "code",
   "execution_count": 42,
   "id": "779579b2",
   "metadata": {},
   "outputs": [],
   "source": [
    "L1.reverse()"
   ]
  },
  {
   "cell_type": "code",
   "execution_count": 43,
   "id": "f428bc9f",
   "metadata": {},
   "outputs": [
    {
     "data": {
      "text/plain": [
       "[(4+7j), 3.14, 'umbrella', 100, 1]"
      ]
     },
     "execution_count": 43,
     "metadata": {},
     "output_type": "execute_result"
    }
   ],
   "source": [
    "L1"
   ]
  },
  {
   "cell_type": "code",
   "execution_count": 44,
   "id": "b56220be",
   "metadata": {},
   "outputs": [
    {
     "ename": "TypeError",
     "evalue": "'<' not supported between instances of 'float' and 'complex'",
     "output_type": "error",
     "traceback": [
      "\u001b[0;31m---------------------------------------------------------------------------\u001b[0m",
      "\u001b[0;31mTypeError\u001b[0m                                 Traceback (most recent call last)",
      "Cell \u001b[0;32mIn[44], line 1\u001b[0m\n\u001b[0;32m----> 1\u001b[0m L1\u001b[38;5;241m.\u001b[39msort()\n",
      "\u001b[0;31mTypeError\u001b[0m: '<' not supported between instances of 'float' and 'complex'"
     ]
    }
   ],
   "source": [
    "L1.sort()"
   ]
  },
  {
   "cell_type": "code",
   "execution_count": 45,
   "id": "c518b610",
   "metadata": {},
   "outputs": [],
   "source": [
    "L1.insert(1, \"sparta\")"
   ]
  },
  {
   "cell_type": "code",
   "execution_count": 46,
   "id": "43a996c9",
   "metadata": {},
   "outputs": [
    {
     "data": {
      "text/plain": [
       "[(4+7j), 'sparta', 3.14, 'umbrella', 100, 1]"
      ]
     },
     "execution_count": 46,
     "metadata": {},
     "output_type": "execute_result"
    }
   ],
   "source": [
    "L1"
   ]
  },
  {
   "cell_type": "code",
   "execution_count": 47,
   "id": "13bb7c20",
   "metadata": {},
   "outputs": [],
   "source": [
    "L1.reverse()"
   ]
  },
  {
   "cell_type": "code",
   "execution_count": 48,
   "id": "f96ff518",
   "metadata": {},
   "outputs": [
    {
     "data": {
      "text/plain": [
       "[1, 100, 'umbrella', 3.14, 'sparta', (4+7j)]"
      ]
     },
     "execution_count": 48,
     "metadata": {},
     "output_type": "execute_result"
    }
   ],
   "source": [
    "L1"
   ]
  },
  {
   "cell_type": "code",
   "execution_count": 49,
   "id": "90dbe244",
   "metadata": {},
   "outputs": [],
   "source": [
    "L1.insert(0,12345678999)"
   ]
  },
  {
   "cell_type": "code",
   "execution_count": 50,
   "id": "5e6779d0",
   "metadata": {},
   "outputs": [
    {
     "data": {
      "text/plain": [
       "[12345678999, 1, 100, 'umbrella', 3.14, 'sparta', (4+7j)]"
      ]
     },
     "execution_count": 50,
     "metadata": {},
     "output_type": "execute_result"
    }
   ],
   "source": [
    "L1"
   ]
  },
  {
   "cell_type": "code",
   "execution_count": 51,
   "id": "9d5fb0fb",
   "metadata": {},
   "outputs": [
    {
     "data": {
      "text/plain": [
       "int"
      ]
     },
     "execution_count": 51,
     "metadata": {},
     "output_type": "execute_result"
    }
   ],
   "source": [
    "type(L1[0])"
   ]
  },
  {
   "cell_type": "code",
   "execution_count": 52,
   "id": "5b933d18",
   "metadata": {},
   "outputs": [],
   "source": [
    "#Operators\n",
    "\n",
    "s1 = 'Hello'"
   ]
  },
  {
   "cell_type": "code",
   "execution_count": 53,
   "id": "07ea062c",
   "metadata": {},
   "outputs": [
    {
     "data": {
      "text/plain": [
       "'Hello'"
      ]
     },
     "execution_count": 53,
     "metadata": {},
     "output_type": "execute_result"
    }
   ],
   "source": [
    "s1"
   ]
  },
  {
   "cell_type": "code",
   "execution_count": 54,
   "id": "7a69502a",
   "metadata": {},
   "outputs": [
    {
     "ename": "NameError",
     "evalue": "name 'sq' is not defined",
     "output_type": "error",
     "traceback": [
      "\u001b[0;31m---------------------------------------------------------------------------\u001b[0m",
      "\u001b[0;31mNameError\u001b[0m                                 Traceback (most recent call last)",
      "Cell \u001b[0;32mIn[54], line 1\u001b[0m\n\u001b[0;32m----> 1\u001b[0m \u001b[38;5;28mtype\u001b[39m(sq)\n",
      "\u001b[0;31mNameError\u001b[0m: name 'sq' is not defined"
     ]
    }
   ],
   "source": [
    "type(sq)"
   ]
  },
  {
   "cell_type": "code",
   "execution_count": 55,
   "id": "2b07ea01",
   "metadata": {},
   "outputs": [
    {
     "data": {
      "text/plain": [
       "str"
      ]
     },
     "execution_count": 55,
     "metadata": {},
     "output_type": "execute_result"
    }
   ],
   "source": [
    "type(s1)"
   ]
  },
  {
   "cell_type": "code",
   "execution_count": 56,
   "id": "ffcab1d6",
   "metadata": {},
   "outputs": [],
   "source": [
    "s2 = 'Hello Buddy!'"
   ]
  },
  {
   "cell_type": "code",
   "execution_count": 57,
   "id": "61a746ad",
   "metadata": {},
   "outputs": [
    {
     "data": {
      "text/plain": [
       "'HELLO BUDDY!'"
      ]
     },
     "execution_count": 57,
     "metadata": {},
     "output_type": "execute_result"
    }
   ],
   "source": [
    "s2.upper()"
   ]
  },
  {
   "cell_type": "code",
   "execution_count": 58,
   "id": "cb03a425",
   "metadata": {},
   "outputs": [
    {
     "data": {
      "text/plain": [
       "'Hello Buddy!'"
      ]
     },
     "execution_count": 58,
     "metadata": {},
     "output_type": "execute_result"
    }
   ],
   "source": [
    "s2"
   ]
  },
  {
   "cell_type": "code",
   "execution_count": 59,
   "id": "17a5ab0b",
   "metadata": {},
   "outputs": [
    {
     "data": {
      "text/plain": [
       "'Hello Blooddy!'"
      ]
     },
     "execution_count": 59,
     "metadata": {},
     "output_type": "execute_result"
    }
   ],
   "source": [
    "s2.replace('u','loo')"
   ]
  },
  {
   "cell_type": "code",
   "execution_count": 60,
   "id": "33e10f74",
   "metadata": {},
   "outputs": [
    {
     "data": {
      "text/plain": [
       "'Hello Buddy!'"
      ]
     },
     "execution_count": 60,
     "metadata": {},
     "output_type": "execute_result"
    }
   ],
   "source": [
    "s2"
   ]
  },
  {
   "cell_type": "code",
   "execution_count": 61,
   "id": "3a3b58b1",
   "metadata": {},
   "outputs": [
    {
     "ename": "TypeError",
     "evalue": "unsupported operand type(s) for &: 'str' and 'str'",
     "output_type": "error",
     "traceback": [
      "\u001b[0;31m---------------------------------------------------------------------------\u001b[0m",
      "\u001b[0;31mTypeError\u001b[0m                                 Traceback (most recent call last)",
      "Cell \u001b[0;32mIn[61], line 1\u001b[0m\n\u001b[0;32m----> 1\u001b[0m s2\u001b[38;5;241m.\u001b[39mreplace(\u001b[38;5;124m'\u001b[39m\u001b[38;5;124mu\u001b[39m\u001b[38;5;124m'\u001b[39m,\u001b[38;5;124m'\u001b[39m\u001b[38;5;124mloo\u001b[39m\u001b[38;5;124m'\u001b[39m \u001b[38;5;241m&\u001b[39m \u001b[38;5;124m'\u001b[39m\u001b[38;5;124mdd\u001b[39m\u001b[38;5;124m'\u001b[39m,\u001b[38;5;124m'\u001b[39m\u001b[38;5;124md\u001b[39m\u001b[38;5;124m'\u001b[39m)\n",
      "\u001b[0;31mTypeError\u001b[0m: unsupported operand type(s) for &: 'str' and 'str'"
     ]
    }
   ],
   "source": [
    "s2.replace('u','loo' & 'dd','d')"
   ]
  },
  {
   "cell_type": "code",
   "execution_count": 62,
   "id": "9acface0",
   "metadata": {},
   "outputs": [],
   "source": [
    "fruits = \"I love Apple, Mango, Banana, Lichi, Guava, Lemon, Cucumber\""
   ]
  },
  {
   "cell_type": "code",
   "execution_count": 63,
   "id": "b111cad9",
   "metadata": {},
   "outputs": [
    {
     "data": {
      "text/plain": [
       "'I love Apple, Mango, Banana, Lichi, Guava, Lemon, Cucumber'"
      ]
     },
     "execution_count": 63,
     "metadata": {},
     "output_type": "execute_result"
    }
   ],
   "source": [
    "fruits"
   ]
  },
  {
   "cell_type": "code",
   "execution_count": 64,
   "id": "fde5fb7a",
   "metadata": {},
   "outputs": [
    {
     "data": {
      "text/plain": [
       "['I love Apple',\n",
       " ' Mango',\n",
       " ' Banana',\n",
       " ' Lichi',\n",
       " ' Guava',\n",
       " ' Lemon',\n",
       " ' Cucumber']"
      ]
     },
     "execution_count": 64,
     "metadata": {},
     "output_type": "execute_result"
    }
   ],
   "source": [
    "fruits.split(',')"
   ]
  },
  {
   "cell_type": "code",
   "execution_count": 65,
   "id": "f7f825db",
   "metadata": {},
   "outputs": [
    {
     "data": {
      "text/plain": [
       "['I love Apple', 'Mango', 'Banana', 'Lichi', 'Guava', 'Lemon', 'Cucumber']"
      ]
     },
     "execution_count": 65,
     "metadata": {},
     "output_type": "execute_result"
    }
   ],
   "source": [
    "fruits.split(', ')"
   ]
  },
  {
   "cell_type": "code",
   "execution_count": 78,
   "id": "925cc3ee",
   "metadata": {},
   "outputs": [],
   "source": [
    "#Dictionary\n",
    "\n",
    "\n",
    "\n",
    "fruit = {\"Apple\":10, \"Banana\":20, \"Lemon\":30, \"pear\":35, \"kIWI\":37}"
   ]
  },
  {
   "cell_type": "code",
   "execution_count": 79,
   "id": "2956441b",
   "metadata": {},
   "outputs": [
    {
     "data": {
      "text/plain": [
       "{'Apple': 10, 'Banana': 20, 'Lemon': 30, 'pear': 35, 'kIWI': 37}"
      ]
     },
     "execution_count": 79,
     "metadata": {},
     "output_type": "execute_result"
    }
   ],
   "source": [
    "fruit"
   ]
  },
  {
   "cell_type": "code",
   "execution_count": 80,
   "id": "b9d95f48",
   "metadata": {},
   "outputs": [
    {
     "data": {
      "text/plain": [
       "dict"
      ]
     },
     "execution_count": 80,
     "metadata": {},
     "output_type": "execute_result"
    }
   ],
   "source": [
    "type(fruit)"
   ]
  },
  {
   "cell_type": "code",
   "execution_count": 74,
   "id": "6ac433b8",
   "metadata": {},
   "outputs": [
    {
     "ename": "AttributeError",
     "evalue": "'dict' object has no attribute 'key'",
     "output_type": "error",
     "traceback": [
      "\u001b[0;31m---------------------------------------------------------------------------\u001b[0m",
      "\u001b[0;31mAttributeError\u001b[0m                            Traceback (most recent call last)",
      "Cell \u001b[0;32mIn[74], line 1\u001b[0m\n\u001b[0;32m----> 1\u001b[0m fruit\u001b[38;5;241m.\u001b[39mkey()\n",
      "\u001b[0;31mAttributeError\u001b[0m: 'dict' object has no attribute 'key'"
     ]
    }
   ],
   "source": [
    "fruit.key()"
   ]
  },
  {
   "cell_type": "code",
   "execution_count": 81,
   "id": "487512fa",
   "metadata": {},
   "outputs": [
    {
     "data": {
      "text/plain": [
       "dict_keys(['Apple', 'Banana', 'Lemon', 'pear', 'kIWI'])"
      ]
     },
     "execution_count": 81,
     "metadata": {},
     "output_type": "execute_result"
    }
   ],
   "source": [
    "fruit.keys()"
   ]
  },
  {
   "cell_type": "code",
   "execution_count": 70,
   "id": "5dd5d4ba",
   "metadata": {},
   "outputs": [
    {
     "data": {
      "text/plain": [
       "dict_values([10, 20, 30, 35, 37])"
      ]
     },
     "execution_count": 70,
     "metadata": {},
     "output_type": "execute_result"
    }
   ],
   "source": [
    "fruit.values()"
   ]
  },
  {
   "cell_type": "code",
   "execution_count": 71,
   "id": "bb18ce5c",
   "metadata": {},
   "outputs": [],
   "source": [
    "fruit = {\"Apple\":10, \"Banana\":20, \"Lemon\":30, \"Pear\":35, \"Kiwi\":37}"
   ]
  },
  {
   "cell_type": "code",
   "execution_count": 72,
   "id": "787d0bd1",
   "metadata": {},
   "outputs": [
    {
     "ename": "AttributeError",
     "evalue": "'dict' object has no attribute 'key'",
     "output_type": "error",
     "traceback": [
      "\u001b[0;31m---------------------------------------------------------------------------\u001b[0m",
      "\u001b[0;31mAttributeError\u001b[0m                            Traceback (most recent call last)",
      "Cell \u001b[0;32mIn[72], line 1\u001b[0m\n\u001b[0;32m----> 1\u001b[0m fruit\u001b[38;5;241m.\u001b[39mkey()\n",
      "\u001b[0;31mAttributeError\u001b[0m: 'dict' object has no attribute 'key'"
     ]
    }
   ],
   "source": [
    "fruit.key()"
   ]
  },
  {
   "cell_type": "code",
   "execution_count": 73,
   "id": "d5085317",
   "metadata": {},
   "outputs": [
    {
     "data": {
      "text/plain": [
       "dict_keys(['Apple', 'Banana', 'Lemon', 'Pear', 'Kiwi'])"
      ]
     },
     "execution_count": 73,
     "metadata": {},
     "output_type": "execute_result"
    }
   ],
   "source": [
    "fruit.keys()"
   ]
  },
  {
   "cell_type": "code",
   "execution_count": 82,
   "id": "3a1ad07c",
   "metadata": {},
   "outputs": [
    {
     "data": {
      "text/plain": [
       "dict_items([('Apple', 10), ('Banana', 20), ('Lemon', 30), ('pear', 35), ('kIWI', 37)])"
      ]
     },
     "execution_count": 82,
     "metadata": {},
     "output_type": "execute_result"
    }
   ],
   "source": [
    "fruit.items()"
   ]
  },
  {
   "cell_type": "code",
   "execution_count": 83,
   "id": "97b05835",
   "metadata": {},
   "outputs": [],
   "source": [
    "#Add new element into the list\n",
    "fruit[\"Mango\"]=50"
   ]
  },
  {
   "cell_type": "code",
   "execution_count": 84,
   "id": "669d4521",
   "metadata": {},
   "outputs": [
    {
     "data": {
      "text/plain": [
       "{'Apple': 10, 'Banana': 20, 'Lemon': 30, 'pear': 35, 'kIWI': 37, 'Mango': 50}"
      ]
     },
     "execution_count": 84,
     "metadata": {},
     "output_type": "execute_result"
    }
   ],
   "source": [
    "fruit"
   ]
  },
  {
   "cell_type": "code",
   "execution_count": 85,
   "id": "eb0bafdd",
   "metadata": {},
   "outputs": [],
   "source": [
    "#Change in existing\n",
    "fruit[\"lemon\"]=40"
   ]
  },
  {
   "cell_type": "code",
   "execution_count": 86,
   "id": "d253889e",
   "metadata": {},
   "outputs": [
    {
     "data": {
      "text/plain": [
       "{'Apple': 10,\n",
       " 'Banana': 20,\n",
       " 'Lemon': 30,\n",
       " 'pear': 35,\n",
       " 'kIWI': 37,\n",
       " 'Mango': 50,\n",
       " 'lemon': 40}"
      ]
     },
     "execution_count": 86,
     "metadata": {},
     "output_type": "execute_result"
    }
   ],
   "source": [
    "fruit"
   ]
  },
  {
   "cell_type": "code",
   "execution_count": 87,
   "id": "966e23f6",
   "metadata": {},
   "outputs": [],
   "source": [
    "fruit[\"Lemon\"]=200"
   ]
  },
  {
   "cell_type": "code",
   "execution_count": 88,
   "id": "ab9e9790",
   "metadata": {},
   "outputs": [
    {
     "data": {
      "text/plain": [
       "{'Apple': 10,\n",
       " 'Banana': 20,\n",
       " 'Lemon': 200,\n",
       " 'pear': 35,\n",
       " 'kIWI': 37,\n",
       " 'Mango': 50,\n",
       " 'lemon': 40}"
      ]
     },
     "execution_count": 88,
     "metadata": {},
     "output_type": "execute_result"
    }
   ],
   "source": [
    "fruit"
   ]
  },
  {
   "cell_type": "code",
   "execution_count": 90,
   "id": "bbd32f4b",
   "metadata": {},
   "outputs": [
    {
     "data": {
      "text/plain": [
       "dict_items([('Apple', 10), ('Banana', 20), ('Lemon', 200), ('pear', 35), ('kIWI', 37), ('Mango', 50), ('lemon', 40)])"
      ]
     },
     "execution_count": 90,
     "metadata": {},
     "output_type": "execute_result"
    }
   ],
   "source": [
    "fruit.items()"
   ]
  },
  {
   "cell_type": "code",
   "execution_count": 92,
   "id": "47b1b29a",
   "metadata": {},
   "outputs": [],
   "source": [
    "fruit1={'Dregon-Fruit':80, 'Cucumber':4}"
   ]
  },
  {
   "cell_type": "code",
   "execution_count": 93,
   "id": "b67370f3",
   "metadata": {},
   "outputs": [
    {
     "data": {
      "text/plain": [
       "{'Apple': 10,\n",
       " 'Banana': 20,\n",
       " 'Lemon': 200,\n",
       " 'pear': 35,\n",
       " 'kIWI': 37,\n",
       " 'Mango': 50,\n",
       " 'lemon': 40}"
      ]
     },
     "execution_count": 93,
     "metadata": {},
     "output_type": "execute_result"
    }
   ],
   "source": [
    "fruit"
   ]
  },
  {
   "cell_type": "code",
   "execution_count": 94,
   "id": "18477279",
   "metadata": {},
   "outputs": [
    {
     "data": {
      "text/plain": [
       "{'Dregon-Fruit': 80, 'Cucumber': 4}"
      ]
     },
     "execution_count": 94,
     "metadata": {},
     "output_type": "execute_result"
    }
   ],
   "source": [
    "fruit1"
   ]
  },
  {
   "cell_type": "code",
   "execution_count": 95,
   "id": "ec8c915a",
   "metadata": {},
   "outputs": [],
   "source": [
    "fruit.update(fruit1)"
   ]
  },
  {
   "cell_type": "code",
   "execution_count": 96,
   "id": "bebc4ee4",
   "metadata": {},
   "outputs": [
    {
     "data": {
      "text/plain": [
       "{'Apple': 10,\n",
       " 'Banana': 20,\n",
       " 'Lemon': 200,\n",
       " 'pear': 35,\n",
       " 'kIWI': 37,\n",
       " 'Mango': 50,\n",
       " 'lemon': 40,\n",
       " 'Dregon-Fruit': 80,\n",
       " 'Cucumber': 4}"
      ]
     },
     "execution_count": 96,
     "metadata": {},
     "output_type": "execute_result"
    }
   ],
   "source": [
    "fruit"
   ]
  },
  {
   "cell_type": "code",
   "execution_count": 97,
   "id": "7b6ee7d7",
   "metadata": {},
   "outputs": [
    {
     "data": {
      "text/plain": [
       "{'Dregon-Fruit': 80, 'Cucumber': 4}"
      ]
     },
     "execution_count": 97,
     "metadata": {},
     "output_type": "execute_result"
    }
   ],
   "source": [
    "fruit1"
   ]
  },
  {
   "cell_type": "code",
   "execution_count": 98,
   "id": "bbc517ca",
   "metadata": {},
   "outputs": [
    {
     "data": {
      "text/plain": [
       "40"
      ]
     },
     "execution_count": 98,
     "metadata": {},
     "output_type": "execute_result"
    }
   ],
   "source": [
    "fruit.pop('lemon')"
   ]
  },
  {
   "cell_type": "code",
   "execution_count": 99,
   "id": "a49209c5",
   "metadata": {},
   "outputs": [
    {
     "data": {
      "text/plain": [
       "{'Apple': 10,\n",
       " 'Banana': 20,\n",
       " 'Lemon': 200,\n",
       " 'pear': 35,\n",
       " 'kIWI': 37,\n",
       " 'Mango': 50,\n",
       " 'Dregon-Fruit': 80,\n",
       " 'Cucumber': 4}"
      ]
     },
     "execution_count": 99,
     "metadata": {},
     "output_type": "execute_result"
    }
   ],
   "source": [
    "fruit"
   ]
  },
  {
   "cell_type": "code",
   "execution_count": 100,
   "id": "ba237a48",
   "metadata": {},
   "outputs": [
    {
     "ename": "NameError",
     "evalue": "name 'a' is not defined",
     "output_type": "error",
     "traceback": [
      "\u001b[0;31m---------------------------------------------------------------------------\u001b[0m",
      "\u001b[0;31mNameError\u001b[0m                                 Traceback (most recent call last)",
      "Cell \u001b[0;32mIn[100], line 5\u001b[0m\n\u001b[1;32m      1\u001b[0m \u001b[38;5;66;03m#Set in Python\u001b[39;00m\n\u001b[0;32m----> 5\u001b[0m s1 \u001b[38;5;241m=\u001b[39m { \u001b[38;5;241m1\u001b[39m, \u001b[38;5;124m\"\u001b[39m\u001b[38;5;124mSamriti\u001b[39m\u001b[38;5;124m\"\u001b[39m, \u001b[38;5;124m\"\u001b[39m\u001b[38;5;124mSamriti\u001b[39m\u001b[38;5;124m\"\u001b[39m, \u001b[38;5;241m1\u001b[39m, \u001b[38;5;241m2\u001b[39m, a,v}\n",
      "\u001b[0;31mNameError\u001b[0m: name 'a' is not defined"
     ]
    }
   ],
   "source": [
    "#Set in Python\n",
    "\n",
    "\n",
    "\n",
    "s1 = { 1, \"Samriti\", \"Samriti\", 1, 2, a,v}"
   ]
  },
  {
   "cell_type": "code",
   "execution_count": 101,
   "id": "a927da66",
   "metadata": {},
   "outputs": [],
   "source": [
    "s1 = { 1, \"Samriti\", \"Samriti\", 1, 2, 'a','v'}"
   ]
  },
  {
   "cell_type": "code",
   "execution_count": 102,
   "id": "0a844b5e",
   "metadata": {},
   "outputs": [
    {
     "data": {
      "text/plain": [
       "{1, 2, 'Samriti', 'a', 'v'}"
      ]
     },
     "execution_count": 102,
     "metadata": {},
     "output_type": "execute_result"
    }
   ],
   "source": [
    "s1"
   ]
  },
  {
   "cell_type": "code",
   "execution_count": 103,
   "id": "e7a22b22",
   "metadata": {},
   "outputs": [
    {
     "data": {
      "text/plain": [
       "set"
      ]
     },
     "execution_count": 103,
     "metadata": {},
     "output_type": "execute_result"
    }
   ],
   "source": [
    "type(s1)"
   ]
  },
  {
   "cell_type": "code",
   "execution_count": 104,
   "id": "ebff5944",
   "metadata": {},
   "outputs": [],
   "source": [
    "#Add something in set\n",
    "s1.add(\"Mishra\")"
   ]
  },
  {
   "cell_type": "code",
   "execution_count": 105,
   "id": "88a538ea",
   "metadata": {},
   "outputs": [
    {
     "data": {
      "text/plain": [
       "{1, 2, 'Mishra', 'Samriti', 'a', 'v'}"
      ]
     },
     "execution_count": 105,
     "metadata": {},
     "output_type": "execute_result"
    }
   ],
   "source": [
    "s1"
   ]
  },
  {
   "cell_type": "code",
   "execution_count": 106,
   "id": "2f853028",
   "metadata": {},
   "outputs": [
    {
     "data": {
      "text/plain": [
       "6"
      ]
     },
     "execution_count": 106,
     "metadata": {},
     "output_type": "execute_result"
    }
   ],
   "source": [
    "len(s1)"
   ]
  },
  {
   "cell_type": "code",
   "execution_count": 107,
   "id": "e595c4d8",
   "metadata": {},
   "outputs": [
    {
     "ename": "TypeError",
     "evalue": "set.remove() takes exactly one argument (2 given)",
     "output_type": "error",
     "traceback": [
      "\u001b[0;31m---------------------------------------------------------------------------\u001b[0m",
      "\u001b[0;31mTypeError\u001b[0m                                 Traceback (most recent call last)",
      "Cell \u001b[0;32mIn[107], line 1\u001b[0m\n\u001b[0;32m----> 1\u001b[0m s1\u001b[38;5;241m.\u001b[39mremove(\u001b[38;5;124m'\u001b[39m\u001b[38;5;124ma\u001b[39m\u001b[38;5;124m'\u001b[39m, \u001b[38;5;124m\"\u001b[39m\u001b[38;5;124mv\u001b[39m\u001b[38;5;124m\"\u001b[39m)\n",
      "\u001b[0;31mTypeError\u001b[0m: set.remove() takes exactly one argument (2 given)"
     ]
    }
   ],
   "source": [
    "s1.remove('a', \"v\")"
   ]
  },
  {
   "cell_type": "code",
   "execution_count": 108,
   "id": "66367eb4",
   "metadata": {},
   "outputs": [
    {
     "ename": "NameError",
     "evalue": "name 'a' is not defined",
     "output_type": "error",
     "traceback": [
      "\u001b[0;31m---------------------------------------------------------------------------\u001b[0m",
      "\u001b[0;31mNameError\u001b[0m                                 Traceback (most recent call last)",
      "Cell \u001b[0;32mIn[108], line 1\u001b[0m\n\u001b[0;32m----> 1\u001b[0m s1\u001b[38;5;241m.\u001b[39mremove(a)\n",
      "\u001b[0;31mNameError\u001b[0m: name 'a' is not defined"
     ]
    }
   ],
   "source": [
    "s1.remove(a)"
   ]
  },
  {
   "cell_type": "code",
   "execution_count": 109,
   "id": "e573caab",
   "metadata": {},
   "outputs": [],
   "source": [
    "s1.remove('a')"
   ]
  },
  {
   "cell_type": "code",
   "execution_count": 110,
   "id": "36a77503",
   "metadata": {},
   "outputs": [
    {
     "data": {
      "text/plain": [
       "{1, 2, 'Mishra', 'Samriti', 'v'}"
      ]
     },
     "execution_count": 110,
     "metadata": {},
     "output_type": "execute_result"
    }
   ],
   "source": [
    "s1"
   ]
  },
  {
   "cell_type": "code",
   "execution_count": 111,
   "id": "cd03a961",
   "metadata": {},
   "outputs": [],
   "source": [
    "s1.remove(\"v\")"
   ]
  },
  {
   "cell_type": "code",
   "execution_count": 112,
   "id": "f7a899fe",
   "metadata": {},
   "outputs": [
    {
     "data": {
      "text/plain": [
       "{1, 2, 'Mishra', 'Samriti'}"
      ]
     },
     "execution_count": 112,
     "metadata": {},
     "output_type": "execute_result"
    }
   ],
   "source": [
    "s1"
   ]
  },
  {
   "cell_type": "code",
   "execution_count": 113,
   "id": "cdd16a1d",
   "metadata": {},
   "outputs": [],
   "source": [
    "s1.update([10,20,30])"
   ]
  },
  {
   "cell_type": "code",
   "execution_count": 114,
   "id": "e9817a84",
   "metadata": {},
   "outputs": [
    {
     "data": {
      "text/plain": [
       "{1, 10, 2, 20, 30, 'Mishra', 'Samriti'}"
      ]
     },
     "execution_count": 114,
     "metadata": {},
     "output_type": "execute_result"
    }
   ],
   "source": [
    "s1"
   ]
  },
  {
   "cell_type": "code",
   "execution_count": 115,
   "id": "40301d8b",
   "metadata": {},
   "outputs": [],
   "source": [
    "s1.update([111,1111,1122,124])"
   ]
  },
  {
   "cell_type": "code",
   "execution_count": 116,
   "id": "20afe57e",
   "metadata": {},
   "outputs": [
    {
     "data": {
      "text/plain": [
       "{1, 10, 111, 1111, 1122, 124, 2, 20, 30, 'Mishra', 'Samriti'}"
      ]
     },
     "execution_count": 116,
     "metadata": {},
     "output_type": "execute_result"
    }
   ],
   "source": [
    "s1"
   ]
  },
  {
   "cell_type": "code",
   "execution_count": 117,
   "id": "0ad9bf68",
   "metadata": {},
   "outputs": [],
   "source": [
    "s1.update([121,232,987,'Anup', 'Jaiswal', \"Madhya Pradesh\"])"
   ]
  },
  {
   "cell_type": "code",
   "execution_count": 118,
   "id": "c57df786",
   "metadata": {},
   "outputs": [
    {
     "data": {
      "text/plain": [
       "{1,\n",
       " 10,\n",
       " 111,\n",
       " 1111,\n",
       " 1122,\n",
       " 121,\n",
       " 124,\n",
       " 2,\n",
       " 20,\n",
       " 232,\n",
       " 30,\n",
       " 987,\n",
       " 'Anup',\n",
       " 'Jaiswal',\n",
       " 'Madhya Pradesh',\n",
       " 'Mishra',\n",
       " 'Samriti'}"
      ]
     },
     "execution_count": 118,
     "metadata": {},
     "output_type": "execute_result"
    }
   ],
   "source": [
    "s1"
   ]
  },
  {
   "cell_type": "code",
   "execution_count": 119,
   "id": "9b2bb43c",
   "metadata": {},
   "outputs": [],
   "source": [
    "s2 = {1,2,3,4,5,\"Anup\"}"
   ]
  },
  {
   "cell_type": "code",
   "execution_count": 120,
   "id": "8f62146e",
   "metadata": {},
   "outputs": [
    {
     "data": {
      "text/plain": [
       "{1, 2, 3, 4, 5, 'Anup'}"
      ]
     },
     "execution_count": 120,
     "metadata": {},
     "output_type": "execute_result"
    }
   ],
   "source": [
    "s1\n",
    "s2"
   ]
  },
  {
   "cell_type": "code",
   "execution_count": 121,
   "id": "694369b3",
   "metadata": {},
   "outputs": [
    {
     "ename": "TypeError",
     "evalue": "unsupported operand type(s) for +: 'set' and 'set'",
     "output_type": "error",
     "traceback": [
      "\u001b[0;31m---------------------------------------------------------------------------\u001b[0m",
      "\u001b[0;31mTypeError\u001b[0m                                 Traceback (most recent call last)",
      "Cell \u001b[0;32mIn[121], line 1\u001b[0m\n\u001b[0;32m----> 1\u001b[0m s1\u001b[38;5;241m+\u001b[39ms2\n",
      "\u001b[0;31mTypeError\u001b[0m: unsupported operand type(s) for +: 'set' and 'set'"
     ]
    }
   ],
   "source": [
    "s1+s2"
   ]
  },
  {
   "cell_type": "code",
   "execution_count": 122,
   "id": "e1ca5aa4",
   "metadata": {},
   "outputs": [
    {
     "data": {
      "text/plain": [
       "{1,\n",
       " 10,\n",
       " 111,\n",
       " 1111,\n",
       " 1122,\n",
       " 121,\n",
       " 124,\n",
       " 2,\n",
       " 20,\n",
       " 232,\n",
       " 3,\n",
       " 30,\n",
       " 4,\n",
       " 5,\n",
       " 987,\n",
       " 'Anup',\n",
       " 'Jaiswal',\n",
       " 'Madhya Pradesh',\n",
       " 'Mishra',\n",
       " 'Samriti'}"
      ]
     },
     "execution_count": 122,
     "metadata": {},
     "output_type": "execute_result"
    }
   ],
   "source": [
    "s1.union(s2)"
   ]
  },
  {
   "cell_type": "code",
   "execution_count": 123,
   "id": "3746699e",
   "metadata": {},
   "outputs": [
    {
     "data": {
      "text/plain": [
       "{1,\n",
       " 10,\n",
       " 111,\n",
       " 1111,\n",
       " 1122,\n",
       " 121,\n",
       " 124,\n",
       " 2,\n",
       " 20,\n",
       " 232,\n",
       " 30,\n",
       " 987,\n",
       " 'Anup',\n",
       " 'Jaiswal',\n",
       " 'Madhya Pradesh',\n",
       " 'Mishra',\n",
       " 'Samriti'}"
      ]
     },
     "execution_count": 123,
     "metadata": {},
     "output_type": "execute_result"
    }
   ],
   "source": [
    "s1"
   ]
  },
  {
   "cell_type": "code",
   "execution_count": 124,
   "id": "30761359",
   "metadata": {},
   "outputs": [
    {
     "data": {
      "text/plain": [
       "17"
      ]
     },
     "execution_count": 124,
     "metadata": {},
     "output_type": "execute_result"
    }
   ],
   "source": [
    "len(s1)"
   ]
  },
  {
   "cell_type": "code",
   "execution_count": 125,
   "id": "d5350012",
   "metadata": {},
   "outputs": [
    {
     "data": {
      "text/plain": [
       "20"
      ]
     },
     "execution_count": 125,
     "metadata": {},
     "output_type": "execute_result"
    }
   ],
   "source": [
    "len(s1.union(s2))"
   ]
  },
  {
   "cell_type": "code",
   "execution_count": 126,
   "id": "7d9597fe",
   "metadata": {},
   "outputs": [
    {
     "data": {
      "text/plain": [
       "{1, 2, 'Anup'}"
      ]
     },
     "execution_count": 126,
     "metadata": {},
     "output_type": "execute_result"
    }
   ],
   "source": [
    "s1.intersection(s2)"
   ]
  },
  {
   "cell_type": "code",
   "execution_count": 127,
   "id": "8ecd55ec",
   "metadata": {},
   "outputs": [
    {
     "data": {
      "text/plain": [
       "{1, 2, 'Anup'}"
      ]
     },
     "execution_count": 127,
     "metadata": {},
     "output_type": "execute_result"
    }
   ],
   "source": [
    "s2.intersection(s1)"
   ]
  },
  {
   "cell_type": "code",
   "execution_count": 128,
   "id": "e10b7a6e",
   "metadata": {},
   "outputs": [
    {
     "data": {
      "text/plain": [
       "{1,\n",
       " 10,\n",
       " 111,\n",
       " 1111,\n",
       " 1122,\n",
       " 121,\n",
       " 124,\n",
       " 2,\n",
       " 20,\n",
       " 232,\n",
       " 3,\n",
       " 30,\n",
       " 4,\n",
       " 5,\n",
       " 987,\n",
       " 'Anup',\n",
       " 'Jaiswal',\n",
       " 'Madhya Pradesh',\n",
       " 'Mishra',\n",
       " 'Samriti'}"
      ]
     },
     "execution_count": 128,
     "metadata": {},
     "output_type": "execute_result"
    }
   ],
   "source": [
    "s2.union(s1)"
   ]
  },
  {
   "cell_type": "code",
   "execution_count": 129,
   "id": "f81ce79d",
   "metadata": {},
   "outputs": [],
   "source": [
    "#If Statement\n",
    "\n",
    "\n",
    "\n",
    "a = 10\n",
    "b=20\n",
    "c= 30\n",
    "d =40"
   ]
  },
  {
   "cell_type": "code",
   "execution_count": 130,
   "id": "95e52ce8",
   "metadata": {},
   "outputs": [],
   "source": [
    "if a>b:\n",
    "    print(\"a is greater than b\")"
   ]
  },
  {
   "cell_type": "code",
   "execution_count": 131,
   "id": "ffb92d87",
   "metadata": {},
   "outputs": [
    {
     "name": "stdout",
     "output_type": "stream",
     "text": [
      "b is greater than a\n"
     ]
    }
   ],
   "source": [
    "if a>b:\n",
    "    print(\"a is greater than b\")\n",
    "else:\n",
    "    print(\"b is greater than a\")"
   ]
  },
  {
   "cell_type": "code",
   "execution_count": 132,
   "id": "faff2839",
   "metadata": {},
   "outputs": [
    {
     "name": "stdout",
     "output_type": "stream",
     "text": [
      "c is greatest\n"
     ]
    }
   ],
   "source": [
    "#Else-If statement\n",
    "\n",
    "if a>b & a>c:\n",
    "    print(\"a is greatest\")\n",
    "elif b>a & b>c:\n",
    "    print(\"b is greatest\")\n",
    "else:\n",
    "    print(\"c is greatest\")"
   ]
  },
  {
   "cell_type": "code",
   "execution_count": 133,
   "id": "22aacd43",
   "metadata": {},
   "outputs": [
    {
     "name": "stdout",
     "output_type": "stream",
     "text": [
      "10 20 30 40\n"
     ]
    }
   ],
   "source": [
    "print(a,b,c,d)"
   ]
  },
  {
   "cell_type": "code",
   "execution_count": 134,
   "id": "ef982384",
   "metadata": {},
   "outputs": [],
   "source": [
    "tup1 = (a,b,c,d)"
   ]
  },
  {
   "cell_type": "code",
   "execution_count": 135,
   "id": "73486d7e",
   "metadata": {},
   "outputs": [
    {
     "data": {
      "text/plain": [
       "(10, 20, 30, 40)"
      ]
     },
     "execution_count": 135,
     "metadata": {},
     "output_type": "execute_result"
    }
   ],
   "source": [
    "tup1"
   ]
  },
  {
   "cell_type": "code",
   "execution_count": 136,
   "id": "cc9d91a1",
   "metadata": {},
   "outputs": [],
   "source": [
    "if 1 in tup1:\n",
    "    print(\"1 present in tuple's tup1\")"
   ]
  },
  {
   "cell_type": "code",
   "execution_count": 137,
   "id": "9fe407b4",
   "metadata": {},
   "outputs": [
    {
     "name": "stdout",
     "output_type": "stream",
     "text": [
      "1 is not present in tuple\n"
     ]
    }
   ],
   "source": [
    "if 1 in tup1:\n",
    "    print(\"1 present in tuple's tup1\")\n",
    "else:\n",
    "    print(\"1 is not present in tuple\")"
   ]
  },
  {
   "cell_type": "code",
   "execution_count": 138,
   "id": "9d872a82",
   "metadata": {},
   "outputs": [],
   "source": [
    "l1 = [a,b,c,d]"
   ]
  },
  {
   "cell_type": "code",
   "execution_count": 139,
   "id": "d80e6d37",
   "metadata": {},
   "outputs": [
    {
     "data": {
      "text/plain": [
       "[10, 20, 30, 40]"
      ]
     },
     "execution_count": 139,
     "metadata": {},
     "output_type": "execute_result"
    }
   ],
   "source": [
    "l1"
   ]
  },
  {
   "cell_type": "code",
   "execution_count": 142,
   "id": "7d008a31",
   "metadata": {},
   "outputs": [],
   "source": [
    "if l1[1]==20:\n",
    "    l1[1]=l1[1]+500"
   ]
  },
  {
   "cell_type": "code",
   "execution_count": null,
   "id": "9f05ed19",
   "metadata": {},
   "outputs": [],
   "source": []
  },
  {
   "cell_type": "code",
   "execution_count": 143,
   "id": "e5a342be",
   "metadata": {},
   "outputs": [
    {
     "data": {
      "text/plain": [
       "[10, 520, 30, 40]"
      ]
     },
     "execution_count": 143,
     "metadata": {},
     "output_type": "execute_result"
    }
   ],
   "source": [
    "l1"
   ]
  },
  {
   "cell_type": "code",
   "execution_count": 144,
   "id": "83bb0fa3",
   "metadata": {},
   "outputs": [
    {
     "data": {
      "text/plain": [
       "list"
      ]
     },
     "execution_count": 144,
     "metadata": {},
     "output_type": "execute_result"
    }
   ],
   "source": [
    "type(l1)"
   ]
  },
  {
   "cell_type": "code",
   "execution_count": 145,
   "id": "0098fca9",
   "metadata": {},
   "outputs": [
    {
     "data": {
      "text/plain": [
       "tuple"
      ]
     },
     "execution_count": 145,
     "metadata": {},
     "output_type": "execute_result"
    }
   ],
   "source": [
    "type(tup1)"
   ]
  },
  {
   "cell_type": "code",
   "execution_count": 147,
   "id": "766f70df",
   "metadata": {},
   "outputs": [
    {
     "name": "stdout",
     "output_type": "stream",
     "text": [
      "Python\n"
     ]
    }
   ],
   "source": [
    "print(\"Python\"\"\")"
   ]
  },
  {
   "cell_type": "code",
   "execution_count": null,
   "id": "544aaf12",
   "metadata": {},
   "outputs": [],
   "source": []
  },
  {
   "cell_type": "code",
   "execution_count": null,
   "id": "238f2d85",
   "metadata": {},
   "outputs": [],
   "source": []
  },
  {
   "cell_type": "code",
   "execution_count": null,
   "id": "029f87ac",
   "metadata": {},
   "outputs": [],
   "source": []
  },
  {
   "cell_type": "code",
   "execution_count": null,
   "id": "854d695f",
   "metadata": {},
   "outputs": [],
   "source": []
  },
  {
   "cell_type": "code",
   "execution_count": null,
   "id": "686a1041",
   "metadata": {},
   "outputs": [],
   "source": []
  }
 ],
 "metadata": {
  "kernelspec": {
   "display_name": "Python 3 (ipykernel)",
   "language": "python",
   "name": "python3"
  },
  "language_info": {
   "codemirror_mode": {
    "name": "ipython",
    "version": 3
   },
   "file_extension": ".py",
   "mimetype": "text/x-python",
   "name": "python",
   "nbconvert_exporter": "python",
   "pygments_lexer": "ipython3",
   "version": "3.11.4"
  }
 },
 "nbformat": 4,
 "nbformat_minor": 5
}
